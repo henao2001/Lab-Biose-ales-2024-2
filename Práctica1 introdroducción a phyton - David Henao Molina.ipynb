{
 "cells": [
  {
   "cell_type": "markdown",
   "metadata": {},
   "source": [
    "# **Práctica 1 - Introduccion a phyton**\n",
    "\n"
   ]
  },
  {
   "cell_type": "code",
   "execution_count": 2,
   "metadata": {},
   "outputs": [
    {
     "name": "stdout",
     "output_type": "stream",
     "text": [
      "[3.1, 1, -0.5, -3.2, 6] [1, 3, 2.2, 5.1, 1]\n"
     ]
    }
   ],
   "source": [
    "#creacion de vectores\n",
    "a=[3.1,1,-0.5,-3.2,6]\n",
    "b=[1,3,2.2,5.1,1]\n",
    "print(a,b)\n"
   ]
  },
  {
   "cell_type": "code",
   "execution_count": 3,
   "metadata": {},
   "outputs": [
    {
     "name": "stdout",
     "output_type": "stream",
     "text": [
      "[  3.1    3.    -1.1  -16.32   6.  ]\n"
     ]
    }
   ],
   "source": [
    "#multiplicacion escalar\n",
    "import numpy as np\n",
    "a= np.array([3.1,1,-0.5,-3.2,6])\n",
    "b= np.array([1,3,2.2,5.1,1])\n",
    "print(a*b)\n",
    "#para poder realizar la multiplicacion escalar es necesario que tanto a como\n",
    "# b sean arreglos numericos, esto se hace a través de la libreria de numpy"
   ]
  },
  {
   "cell_type": "code",
   "execution_count": 4,
   "metadata": {},
   "outputs": [
    {
     "name": "stdout",
     "output_type": "stream",
     "text": [
      "-5.32\n",
      "-5.32\n"
     ]
    }
   ],
   "source": [
    "#Multiplicacion punto a punto\n",
    "#para hallar el producto punto hay 2 comandos\n",
    "print(a@b)\n",
    "print(a.dot(b))"
   ]
  },
  {
   "cell_type": "code",
   "execution_count": 5,
   "metadata": {},
   "outputs": [
    {
     "name": "stdout",
     "output_type": "stream",
     "text": [
      "[[ 2.  -1.  -3. ]\n",
      " [ 4.   1.5 -2.5]\n",
      " [ 7.3 -0.9  0.2]]\n"
     ]
    }
   ],
   "source": [
    "# construccion de matrices\n",
    "\n",
    "A = np.array([[2, -1, -3],\n",
    "              [4, 1.5, -2.5],\n",
    "              [7.3, -0.9, 0.2]])\n",
    "\n",
    "print(A)"
   ]
  },
  {
   "cell_type": "code",
   "execution_count": 6,
   "metadata": {},
   "outputs": [
    {
     "data": {
      "text/plain": [
       "array([[ 2. ,  4. ,  7.3],\n",
       "       [-1. ,  1.5, -0.9],\n",
       "       [-3. , -2.5,  0.2]])"
      ]
     },
     "execution_count": 6,
     "metadata": {},
     "output_type": "execute_result"
    }
   ],
   "source": [
    "# Transpuesta\n",
    "# se usa el comando .T\n",
    "A_tr = A.T\n",
    "A_tr"
   ]
  },
  {
   "cell_type": "code",
   "execution_count": 7,
   "metadata": {},
   "outputs": [],
   "source": [
    "# comandos de la libreria numpy\n",
    "#ONES --> crea un array lleno de unos\n",
    "#ROUND --> redondea a unnumeor especifico de decimales\n",
    "#CEIL --> redondea al numero superior mas cercano\n",
    "# FLOOR --> redondea al numero inferior más cercano\n"
   ]
  },
  {
   "cell_type": "code",
   "execution_count": 8,
   "metadata": {},
   "outputs": [
    {
     "data": {
      "text/plain": [
       "array([[1., 1., 1.],\n",
       "       [1., 1., 1.],\n",
       "       [1., 1., 1.]])"
      ]
     },
     "execution_count": 8,
     "metadata": {},
     "output_type": "execute_result"
    }
   ],
   "source": [
    "# Crear un array de 3x3 lleno de unos\n",
    "np.ones((3, 3))"
   ]
  },
  {
   "cell_type": "code",
   "execution_count": 9,
   "metadata": {},
   "outputs": [
    {
     "name": "stdout",
     "output_type": "stream",
     "text": [
      "[3.14 2.72 1.62]\n",
      "[3.1416 2.7183 1.618 ]\n"
     ]
    }
   ],
   "source": [
    "# Crear un array con valores decimales\n",
    "decimales = np.array([3.14159, 2.71828, 1.61803])\n",
    "# Redondear a 2 decimales\n",
    "array_rounded = np.round(decimales, 2)\n",
    "array_rounded2 = np.round(decimales, 4)\n",
    "print(array_rounded)\n",
    "print(array_rounded2)"
   ]
  },
  {
   "cell_type": "code",
   "execution_count": 10,
   "metadata": {},
   "outputs": [
    {
     "data": {
      "text/plain": [
       "array([3., 2., 1.])"
      ]
     },
     "execution_count": 10,
     "metadata": {},
     "output_type": "execute_result"
    }
   ],
   "source": [
    "array_floor = np.floor(decimales)\n",
    "array_floor"
   ]
  },
  {
   "cell_type": "code",
   "execution_count": 11,
   "metadata": {},
   "outputs": [
    {
     "data": {
      "text/plain": [
       "array([4., 3., 2.])"
      ]
     },
     "execution_count": 11,
     "metadata": {},
     "output_type": "execute_result"
    }
   ],
   "source": [
    "array_ceil = np.ceil(decimales)\n",
    "array_ceil"
   ]
  },
  {
   "cell_type": "code",
   "execution_count": 12,
   "metadata": {},
   "outputs": [
    {
     "name": "stdout",
     "output_type": "stream",
     "text": [
      "-3.0\n"
     ]
    }
   ],
   "source": [
    "#g)Acceda al valor de la primera fila, tercera columna de la matriz A, imprímalo en consola.\n",
    "C = A[0,2]\n",
    "print(C)"
   ]
  },
  {
   "cell_type": "code",
   "execution_count": 13,
   "metadata": {},
   "outputs": [
    {
     "name": "stdout",
     "output_type": "stream",
     "text": [
      "la segunda fila de A es: [ 4.   1.5 -2.5]\n"
     ]
    }
   ],
   "source": [
    "#h)\tObtenga la segunda fila de dicha matriz, imprímalo en consola. \n",
    "C2 = A[1]\n",
    "print('la segunda fila de A es:',C2)"
   ]
  },
  {
   "cell_type": "code",
   "execution_count": 14,
   "metadata": {},
   "outputs": [
    {
     "name": "stdout",
     "output_type": "stream",
     "text": [
      "las dimensiones de A son: (3, 3)\n"
     ]
    }
   ],
   "source": [
    "#i)\tConsulte el comando para conocer las dimensiones de una matriz, utilícelo con la matriz A e imprímalo en consola.\n",
    "print('las dimensiones de A son:',np.shape(A))# la dimension de las matrices se halla con el cimando shape\n"
   ]
  },
  {
   "cell_type": "code",
   "execution_count": 15,
   "metadata": {},
   "outputs": [
    {
     "data": {
      "text/plain": [
       "array([ 0.   ,  0.368,  0.685,  0.905,  0.998,  0.951,  0.771,  0.482,\n",
       "        0.125, -0.249, -0.588, -0.844, -0.982, -0.982, -0.844, -0.588,\n",
       "       -0.249,  0.125,  0.482,  0.771,  0.951,  0.998,  0.905,  0.685,\n",
       "        0.368,  0.   , -0.368, -0.685, -0.905, -0.998, -0.951, -0.771,\n",
       "       -0.482, -0.125,  0.249,  0.588,  0.844,  0.982,  0.982,  0.844,\n",
       "        0.588,  0.249, -0.125, -0.482, -0.771, -0.951, -0.998, -0.905,\n",
       "       -0.685, -0.368, -0.   ,  0.368,  0.685,  0.905,  0.998,  0.951,\n",
       "        0.771,  0.482,  0.125, -0.249, -0.588, -0.844, -0.982, -0.982,\n",
       "       -0.844, -0.588, -0.249,  0.125,  0.482,  0.771,  0.951,  0.998,\n",
       "        0.905,  0.685,  0.368,  0.   , -0.368, -0.685, -0.905, -0.998,\n",
       "       -0.951, -0.771, -0.482, -0.125,  0.249,  0.588,  0.844,  0.982,\n",
       "        0.982,  0.844,  0.588,  0.249, -0.125, -0.482, -0.771, -0.951,\n",
       "       -0.998, -0.905, -0.685, -0.368])"
      ]
     },
     "execution_count": 15,
     "metadata": {},
     "output_type": "execute_result"
    }
   ],
   "source": [
    "# Funcion y(N) en el intervalo 0<=n<=100\n",
    "n = np.arange(0,100,1)\n",
    "y = np.sin(np.pi*0.12*n)\n",
    "y_rounded = np.round(y,3)\n",
    "y_rounded"
   ]
  },
  {
   "cell_type": "code",
   "execution_count": 16,
   "metadata": {},
   "outputs": [
    {
     "data": {
      "text/plain": [
       "array([ 1.   ,  0.982,  0.93 ,  0.844,  0.729,  0.588,  0.426,  0.249,\n",
       "        0.063, -0.125, -0.309, -0.482, -0.637, -0.771, -0.876, -0.951,\n",
       "       -0.992, -0.998, -0.969, -0.905, -0.809, -0.685, -0.536, -0.368,\n",
       "       -0.187, -0.   ,  0.187,  0.368,  0.536,  0.685,  0.809,  0.905,\n",
       "        0.969,  0.998,  0.992,  0.951,  0.876,  0.771,  0.637,  0.482,\n",
       "        0.309,  0.125, -0.063, -0.249, -0.426, -0.588, -0.729, -0.844,\n",
       "       -0.93 , -0.982, -1.   , -0.982, -0.93 , -0.844, -0.729, -0.588,\n",
       "       -0.426, -0.249, -0.063,  0.125,  0.309,  0.482,  0.637,  0.771,\n",
       "        0.876,  0.951,  0.992,  0.998,  0.969,  0.905,  0.809,  0.685,\n",
       "        0.536,  0.368,  0.187,  0.   , -0.187, -0.368, -0.536, -0.685,\n",
       "       -0.809, -0.905, -0.969, -0.998, -0.992, -0.951, -0.876, -0.771,\n",
       "       -0.637, -0.482, -0.309, -0.125,  0.063,  0.249,  0.426,  0.588,\n",
       "        0.729,  0.844,  0.93 ,  0.982])"
      ]
     },
     "execution_count": 16,
     "metadata": {},
     "output_type": "execute_result"
    }
   ],
   "source": [
    "# Funcion y2(N) \n",
    "y2 = np.cos(np.pi*2*0.03*n)\n",
    "y2_round = np.round(y2,3)\n",
    "y2_round"
   ]
  },
  {
   "cell_type": "code",
   "execution_count": 17,
   "metadata": {},
   "outputs": [
    {
     "data": {
      "text/plain": [
       "array([ 1.   ,  1.35 ,  1.614,  1.749,  1.727,  1.539,  1.196,  0.73 ,\n",
       "        0.188, -0.374, -0.897, -1.326, -1.62 , -1.753, -1.721, -1.539,\n",
       "       -1.241, -0.873, -0.487, -0.134,  0.142,  0.313,  0.369,  0.316,\n",
       "        0.181,  0.   , -0.181, -0.316, -0.369, -0.313, -0.142,  0.134,\n",
       "        0.487,  0.873,  1.241,  1.539,  1.721,  1.753,  1.62 ,  1.326,\n",
       "        0.897,  0.374, -0.188, -0.73 , -1.196, -1.539, -1.727, -1.749,\n",
       "       -1.614, -1.35 , -1.   , -0.614, -0.245,  0.06 ,  0.269,  0.363,\n",
       "        0.345,  0.233,  0.063, -0.123, -0.279, -0.363, -0.345, -0.212,\n",
       "        0.032,  0.363,  0.743,  1.123,  1.45 ,  1.675,  1.76 ,  1.683,\n",
       "        1.441,  1.053,  0.556,  0.   , -0.556, -1.053, -1.441, -1.683,\n",
       "       -1.76 , -1.675, -1.45 , -1.123, -0.743, -0.363, -0.032,  0.212,\n",
       "        0.345,  0.363,  0.279,  0.123, -0.063, -0.233, -0.345, -0.363,\n",
       "       -0.269, -0.06 ,  0.245,  0.614])"
      ]
     },
     "execution_count": 17,
     "metadata": {},
     "output_type": "execute_result"
    }
   ],
   "source": [
    "#suma de y y y2\n",
    "s=y+y2\n",
    "sr=np.round(s,3)\n",
    "sr"
   ]
  },
  {
   "cell_type": "code",
   "execution_count": 18,
   "metadata": {},
   "outputs": [
    {
     "data": {
      "text/plain": [
       "array([ 0.   ,  0.362,  0.636,  0.764,  0.728,  0.559,  0.328,  0.12 ,\n",
       "        0.008,  0.031,  0.182,  0.407,  0.626,  0.757,  0.74 ,  0.559,\n",
       "        0.247, -0.125, -0.467, -0.697, -0.769, -0.683, -0.485, -0.252,\n",
       "       -0.069, -0.   , -0.069, -0.252, -0.485, -0.683, -0.769, -0.697,\n",
       "       -0.467, -0.125,  0.247,  0.559,  0.74 ,  0.757,  0.626,  0.407,\n",
       "        0.182,  0.031,  0.008,  0.12 ,  0.328,  0.559,  0.728,  0.764,\n",
       "        0.636,  0.362,  0.   , -0.362, -0.636, -0.764, -0.728, -0.559,\n",
       "       -0.328, -0.12 , -0.008, -0.031, -0.182, -0.407, -0.626, -0.757,\n",
       "       -0.74 , -0.559, -0.247,  0.125,  0.467,  0.697,  0.769,  0.683,\n",
       "        0.485,  0.252,  0.069,  0.   ,  0.069,  0.252,  0.485,  0.683,\n",
       "        0.769,  0.697,  0.467,  0.125, -0.247, -0.559, -0.74 , -0.757,\n",
       "       -0.626, -0.407, -0.182, -0.031, -0.008, -0.12 , -0.328, -0.559,\n",
       "       -0.728, -0.764, -0.636, -0.362])"
      ]
     },
     "execution_count": 18,
     "metadata": {},
     "output_type": "execute_result"
    }
   ],
   "source": [
    "#Producto de y y y2\n",
    "t=y*y2\n",
    "tr=np.round(t,3)\n",
    "tr"
   ]
  },
  {
   "cell_type": "code",
   "execution_count": 19,
   "metadata": {},
   "outputs": [
    {
     "data": {
      "image/png": "[encoded data removed]",
      "text/plain": [
       "<Figure size 432x288 with 1 Axes>"
      ]
     },
     "metadata": {
      "needs_background": "light"
     },
     "output_type": "display_data"
    }
   ],
   "source": [
    "import matplotlib.pyplot as plt\n",
    "# Graficar ambas señales en la misma figura\n",
    "plt.plot(n, y, label='y[n] = sin(pi * 0.12 * n)', color='b')  # Color azul para y[n]\n",
    "plt.plot(n, y2, label='y2[n] = cos(2*pi*0.03*n)', color='r')  # Color rojo para y2[n]\n",
    "\n",
    "# Añadir título y etiquetas a los ejes\n",
    "plt.title(\"Señales y[n] y y2[n]\")\n",
    "plt.xlabel(\"n\")\n",
    "plt.ylabel(\"Amplitud\")\n",
    "\n",
    "# Mostrar leyenda\n",
    "plt.legend()\n",
    "plt.grid(True)\n",
    "# Mostrar la gráfica\n",
    "plt.show()\n"
   ]
  },
  {
   "cell_type": "code",
   "execution_count": 20,
   "metadata": {},
   "outputs": [
    {
     "data": {
      "image/png": "[encoded data removed]",
      "text/plain": [
       "<Figure size 432x288 with 1 Axes>"
      ]
     },
     "metadata": {
      "needs_background": "light"
     },
     "output_type": "display_data"
    }
   ],
   "source": [
    "plt.plot(n, sr, label='s[n] = y[n]+y2[n]', color='b')  # Color azul para y[n]\n",
    "plt.plot(n, tr, label='t[n] = y[n]*y2[n]', color='r')  # Color rojo para y2[n]\n",
    "\n",
    "# Añadir título y etiquetas a los ejes\n",
    "plt.title(\"Señales s[n] y t[n]\")\n",
    "plt.xlabel(\"n\")\n",
    "plt.ylabel(\"Amplitud\")\n",
    "\n",
    "# Mostrar leyenda\n",
    "plt.legend()\n",
    "plt.grid(True)\n",
    "# Mostrar la gráfica\n",
    "plt.show()\n"
   ]
  },
  {
   "cell_type": "code",
   "execution_count": 25,
   "metadata": {},
   "outputs": [
    {
     "name": "stdout",
     "output_type": "stream",
     "text": [
      "Nota mínima          1.200000\n",
      "Nota máxima          5.000000\n",
      "Nota media           3.600000\n",
      "Desviación típica    1.063955\n",
      "dtype: float64\n"
     ]
    }
   ],
   "source": [
    "import numpy as np\n",
    "import pandas as pd\n",
    "\n",
    "# Crear el diccionario con las notas de 10 alumnos\n",
    "notas_alumnos = {\n",
    "    'Alumno1': 4.5,\n",
    "    'Alumno2': 3.7,\n",
    "    'Alumno3': 2.9,\n",
    "    'Alumno4': 4.3,\n",
    "    'Alumno5': 5.0,\n",
    "    'Alumno6': 3.9,\n",
    "    'Alumno7': 2.5,\n",
    "    'Alumno8': 1.2,\n",
    "    'Alumno9': 4.3,\n",
    "    'Alumno10': 3.7\n",
    "}\n",
    "\n",
    "def notas(notas_alumnos):\n",
    "    # Convertir las notas a un array de NumPy\n",
    "    notas_array = np.array(list(notas_alumnos.values()))\n",
    "    \n",
    "    # Calcular las estadísticas\n",
    "    nota_minima = np.min(notas_array)\n",
    "    nota_maxima = np.max(notas_array)\n",
    "    nota_media = np.mean(notas_array)\n",
    "    desviacion_tipica = np.std(notas_array)\n",
    "    \n",
    "    # Crear una serie de pandas con las estadísticas\n",
    "    estadisticas = pd.Series({\n",
    "        'Nota mínima': nota_minima,\n",
    "        'Nota máxima': nota_maxima,\n",
    "        'Nota media': nota_media,\n",
    "        'Desviación típica': desviacion_tipica\n",
    "    })\n",
    "    \n",
    "    return estadisticas\n",
    "\n",
    "# Calcular las estadísticas\n",
    "estadisticas_notas = notas(notas_alumnos)\n",
    "print(estadisticas_notas)\n"
   ]
  },
  {
   "cell_type": "code",
   "execution_count": null,
   "metadata": {},
   "outputs": [],
   "source": []
  },
  {
   "cell_type": "code",
   "execution_count": null,
   "metadata": {},
   "outputs": [],
   "source": []
  },
  {
   "cell_type": "code",
   "execution_count": null,
   "metadata": {},
   "outputs": [],
   "source": []
  }
 ],
 "metadata": {
  "kernelspec": {
   "display_name": "Python 3",
   "language": "python",
   "name": "python3"
  },
  "language_info": {
   "codemirror_mode": {
    "name": "ipython",
    "version": 3
   },
   "file_extension": ".py",
   "mimetype": "text/x-python",
   "name": "python",
   "nbconvert_exporter": "python",
   "pygments_lexer": "ipython3",
   "version": "3.8.5"
  }
 },
 "nbformat": 4,
 "nbformat_minor": 4
}
